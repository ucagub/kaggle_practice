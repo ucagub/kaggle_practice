{
 "cells": [
  {
   "cell_type": "markdown",
   "metadata": {},
   "source": [
    "Data from https://www.kaggle.com/datasets/jp797498e/twitter-entity-sentiment-analysis.\n",
    "\n",
    "lunch basic mlflow server with \n",
    "\n",
    "mlflow server --host 127.0.0.1 --port 8080   "
   ]
  },
  {
   "cell_type": "code",
   "execution_count": 14,
   "metadata": {},
   "outputs": [
    {
     "name": "stderr",
     "output_type": "stream",
     "text": [
      "/opt/anaconda/lib/python3.12/site-packages/tqdm/auto.py:21: TqdmWarning: IProgress not found. Please update jupyter and ipywidgets. See https://ipywidgets.readthedocs.io/en/stable/user_install.html\n",
      "  from .autonotebook import tqdm as notebook_tqdm\n"
     ]
    }
   ],
   "source": [
    "import pandas as pd\n",
    "import numpy as np\n",
    "from sklearn.feature_extraction.text import TfidfVectorizer\n",
    "from sklearn.model_selection import train_test_split\n",
    "from sklearn.metrics import accuracy_score, confusion_matrix, ConfusionMatrixDisplay, classification_report\n",
    "from sklearn.compose import ColumnTransformer\n",
    "from sklearn.pipeline import Pipeline\n",
    "from sklearn.preprocessing import LabelEncoder\n",
    "from sklearn.ensemble import RandomForestClassifier\n",
    "from sklearn.cluster import KMeans\n",
    "from lightgbm import LGBMClassifier\n",
    "from xgboost import XGBClassifier\n",
    "import matplotlib.pyplot as plt\n",
    "import seaborn as sns\n",
    "import optuna\n",
    "import re\n",
    "from tqdm import tqdm"
   ]
  },
  {
   "cell_type": "code",
   "execution_count": 2,
   "metadata": {},
   "outputs": [
    {
     "data": {
      "text/html": [
       "<div>\n",
       "<style scoped>\n",
       "    .dataframe tbody tr th:only-of-type {\n",
       "        vertical-align: middle;\n",
       "    }\n",
       "\n",
       "    .dataframe tbody tr th {\n",
       "        vertical-align: top;\n",
       "    }\n",
       "\n",
       "    .dataframe thead th {\n",
       "        text-align: right;\n",
       "    }\n",
       "</style>\n",
       "<table border=\"1\" class=\"dataframe\">\n",
       "  <thead>\n",
       "    <tr style=\"text-align: right;\">\n",
       "      <th></th>\n",
       "      <th>tweet_id</th>\n",
       "      <th>entity</th>\n",
       "      <th>sentiment</th>\n",
       "      <th>tweet_content</th>\n",
       "    </tr>\n",
       "  </thead>\n",
       "  <tbody>\n",
       "    <tr>\n",
       "      <th>0</th>\n",
       "      <td>2401</td>\n",
       "      <td>Borderlands</td>\n",
       "      <td>Positive</td>\n",
       "      <td>im getting on borderlands and i will murder yo...</td>\n",
       "    </tr>\n",
       "    <tr>\n",
       "      <th>1</th>\n",
       "      <td>2401</td>\n",
       "      <td>Borderlands</td>\n",
       "      <td>Positive</td>\n",
       "      <td>I am coming to the borders and I will kill you...</td>\n",
       "    </tr>\n",
       "    <tr>\n",
       "      <th>2</th>\n",
       "      <td>2401</td>\n",
       "      <td>Borderlands</td>\n",
       "      <td>Positive</td>\n",
       "      <td>im getting on borderlands and i will kill you ...</td>\n",
       "    </tr>\n",
       "    <tr>\n",
       "      <th>3</th>\n",
       "      <td>2401</td>\n",
       "      <td>Borderlands</td>\n",
       "      <td>Positive</td>\n",
       "      <td>im coming on borderlands and i will murder you...</td>\n",
       "    </tr>\n",
       "    <tr>\n",
       "      <th>4</th>\n",
       "      <td>2401</td>\n",
       "      <td>Borderlands</td>\n",
       "      <td>Positive</td>\n",
       "      <td>im getting on borderlands 2 and i will murder ...</td>\n",
       "    </tr>\n",
       "  </tbody>\n",
       "</table>\n",
       "</div>"
      ],
      "text/plain": [
       "   tweet_id       entity sentiment  \\\n",
       "0      2401  Borderlands  Positive   \n",
       "1      2401  Borderlands  Positive   \n",
       "2      2401  Borderlands  Positive   \n",
       "3      2401  Borderlands  Positive   \n",
       "4      2401  Borderlands  Positive   \n",
       "\n",
       "                                       tweet_content  \n",
       "0  im getting on borderlands and i will murder yo...  \n",
       "1  I am coming to the borders and I will kill you...  \n",
       "2  im getting on borderlands and i will kill you ...  \n",
       "3  im coming on borderlands and i will murder you...  \n",
       "4  im getting on borderlands 2 and i will murder ...  "
      ]
     },
     "execution_count": 2,
     "metadata": {},
     "output_type": "execute_result"
    }
   ],
   "source": [
    "df = pd.read_csv('twitter_training.csv', header=None)\n",
    "df.columns = ['tweet_id', 'entity', 'sentiment', 'tweet_content']\n",
    "df.head() "
   ]
  },
  {
   "cell_type": "markdown",
   "metadata": {},
   "source": [
    "check column names and datatypes"
   ]
  },
  {
   "cell_type": "code",
   "execution_count": 3,
   "metadata": {},
   "outputs": [
    {
     "name": "stdout",
     "output_type": "stream",
     "text": [
      "<class 'pandas.core.frame.DataFrame'>\n",
      "RangeIndex: 74682 entries, 0 to 74681\n",
      "Data columns (total 4 columns):\n",
      " #   Column         Non-Null Count  Dtype \n",
      "---  ------         --------------  ----- \n",
      " 0   tweet_id       74682 non-null  int64 \n",
      " 1   entity         74682 non-null  object\n",
      " 2   sentiment      74682 non-null  object\n",
      " 3   tweet_content  73996 non-null  object\n",
      "dtypes: int64(1), object(3)\n",
      "memory usage: 2.3+ MB\n"
     ]
    }
   ],
   "source": [
    "df.info()"
   ]
  },
  {
   "cell_type": "markdown",
   "metadata": {},
   "source": [
    "check for nulls"
   ]
  },
  {
   "cell_type": "code",
   "execution_count": 4,
   "metadata": {},
   "outputs": [
    {
     "data": {
      "text/plain": [
       "tweet_id         False\n",
       "entity           False\n",
       "sentiment        False\n",
       "tweet_content     True\n",
       "dtype: bool"
      ]
     },
     "execution_count": 4,
     "metadata": {},
     "output_type": "execute_result"
    }
   ],
   "source": [
    "df.isnull().any()"
   ]
  },
  {
   "cell_type": "markdown",
   "metadata": {},
   "source": [
    "fill empty tweet_content with ''"
   ]
  },
  {
   "cell_type": "code",
   "execution_count": 5,
   "metadata": {},
   "outputs": [
    {
     "data": {
      "text/plain": [
       "tweet_id         False\n",
       "entity           False\n",
       "sentiment        False\n",
       "tweet_content    False\n",
       "dtype: bool"
      ]
     },
     "execution_count": 5,
     "metadata": {},
     "output_type": "execute_result"
    }
   ],
   "source": [
    "df['tweet_content'] = df['tweet_content'].fillna('')\n",
    "df.isnull().any()"
   ]
  },
  {
   "cell_type": "markdown",
   "metadata": {},
   "source": [
    "Check nunique for categorical features to figure out appropriate encoding. The entity column can be one-hot encoded or ordinal encoded. However, tweet_content requires a more sophisticated encoder."
   ]
  },
  {
   "cell_type": "code",
   "execution_count": 8,
   "metadata": {},
   "outputs": [
    {
     "data": {
      "text/plain": [
       "entity              32\n",
       "sentiment            4\n",
       "tweet_content    69492\n",
       "dtype: int64"
      ]
     },
     "execution_count": 8,
     "metadata": {},
     "output_type": "execute_result"
    }
   ],
   "source": [
    "df.select_dtypes('object').nunique()"
   ]
  },
  {
   "cell_type": "markdown",
   "metadata": {},
   "source": [
    "# EDA"
   ]
  },
  {
   "cell_type": "markdown",
   "metadata": {},
   "source": [
    "The sentiments are well represented per category."
   ]
  },
  {
   "cell_type": "code",
   "execution_count": 15,
   "metadata": {},
   "outputs": [
    {
     "data": {
      "text/plain": [
       "<Axes: ylabel='sentiment'>"
      ]
     },
     "execution_count": 15,
     "metadata": {},
     "output_type": "execute_result"
    },
    {
     "data": {
      "image/png": "[encoded data removed]",
      "text/plain": [
       "<Figure size 640x480 with 1 Axes>"
      ]
     },
     "metadata": {},
     "output_type": "display_data"
    }
   ],
   "source": [
    "df.sentiment.value_counts().sort_values().plot(kind='barh')"
   ]
  },
  {
   "cell_type": "markdown",
   "metadata": {},
   "source": [
    "Try to figure out most common words from tweet content.  \n",
    "The top 20 most common words are not useful for predicting sentiment. However, we can use tfidf vectorizer to solve this problem."
   ]
  },
  {
   "cell_type": "code",
   "execution_count": 16,
   "metadata": {},
   "outputs": [
    {
     "name": "stderr",
     "output_type": "stream",
     "text": [
      "100%|██████████| 74682/74682 [01:13<00:00, 1021.46it/s]\n"
     ]
    },
    {
     "data": {
      "text/plain": [
       "[('the', 25733),\n",
       " ('to', 20702),\n",
       " ('and', 19029),\n",
       " ('I', 18021),\n",
       " ('a', 17151),\n",
       " ('of', 15279),\n",
       " ('is', 14600),\n",
       " ('for', 12798),\n",
       " ('in', 12560),\n",
       " ('it', 10363),\n",
       " ('this', 10320),\n",
       " ('on', 10221),\n",
       " ('my', 8657),\n",
       " ('that', 8450),\n",
       " ('you', 8309),\n",
       " ('with', 7707),\n",
       " ('game', 6687),\n",
       " ('me', 5931),\n",
       " ('so', 5611),\n",
       " ('have', 5502)]"
      ]
     },
     "execution_count": 16,
     "metadata": {},
     "output_type": "execute_result"
    }
   ],
   "source": [
    "\n",
    "def clean_content(content):\n",
    "    words = list(set(content.split(' ')))\n",
    "    cleaned_words = [re.sub(r'\\W+', '', word) for word in words if re.sub(r'\\W+', '', word)]\n",
    "    return cleaned_words\n",
    "\n",
    "cleaned_content = df.tweet_content.apply(clean_content)\n",
    "\n",
    "unique_words = set()\n",
    "for word_list in tqdm(cleaned_content):\n",
    "    unique_words = unique_words.union(set(word_list))\n",
    "\n",
    "word_count = dict()\n",
    "for word in list(unique_words):\n",
    "    word_count[word] = 0\n",
    "\n",
    "for word_list in cleaned_content:\n",
    "    for word in word_list:\n",
    "        word_count[word] += 1\n",
    "\n",
    "word_count_list = word_count.items()\n",
    "sorted(word_count_list, key=lambda x: x[1], reverse=True)[:20]"
   ]
  },
  {
   "cell_type": "markdown",
   "metadata": {},
   "source": [
    "# Training"
   ]
  },
  {
   "cell_type": "code",
   "execution_count": 17,
   "metadata": {},
   "outputs": [],
   "source": [
    "X = df.drop('sentiment', axis=1)\n",
    "y = df['sentiment'].to_frame()\n",
    "\n",
    "X_train, X_valid, y_train, y_valid = train_test_split(X, y, test_size=0.3, random_state=0)\n",
    "\n",
    "sample_row = X.iloc[0, :].to_dict()"
   ]
  },
  {
   "cell_type": "markdown",
   "metadata": {},
   "source": [
    "Remove none alphanumeric characters"
   ]
  },
  {
   "cell_type": "code",
   "execution_count": 18,
   "metadata": {},
   "outputs": [],
   "source": [
    "from sklearn.base import BaseEstimator, TransformerMixin\n",
    "\n",
    "class CleanContentTransformer(BaseEstimator, TransformerMixin):\n",
    "    def fit(self, X, y=None):\n",
    "        return self  # No fitting necessary\n",
    "\n",
    "    def transform(self, X, y=None):\n",
    "        # Apply the clean_content function to each entry in the DataFrame column\n",
    "        return X.apply(self.clean_content)\n",
    "\n",
    "    @staticmethod\n",
    "    def clean_content(content):\n",
    "        words = list(set(content.split(' ')))\n",
    "        cleaned_words = [re.sub(r'\\W+', '', word) for word in words if re.sub(r'\\W+', '', word)]\n",
    "        joined_words = ' '.join(cleaned_words)\n",
    "        return joined_words"
   ]
  },
  {
   "cell_type": "code",
   "execution_count": 19,
   "metadata": {},
   "outputs": [
    {
     "name": "stderr",
     "output_type": "stream",
     "text": [
      "/opt/anaconda/lib/python3.12/site-packages/sklearn/preprocessing/_label.py:114: DataConversionWarning: A column-vector y was passed when a 1d array was expected. Please change the shape of y to (n_samples, ), for example using ravel().\n",
      "  y = column_or_1d(y, warn=True)\n",
      "/opt/anaconda/lib/python3.12/site-packages/sklearn/preprocessing/_label.py:132: DataConversionWarning: A column-vector y was passed when a 1d array was expected. Please change the shape of y to (n_samples, ), for example using ravel().\n",
      "  y = column_or_1d(y, dtype=self.classes_.dtype, warn=True)\n"
     ]
    },
    {
     "name": "stdout",
     "output_type": "stream",
     "text": [
      "[LightGBM] [Info] Auto-choosing row-wise multi-threading, the overhead of testing was 0.200448 seconds.\n",
      "You can set `force_row_wise=true` to remove the overhead.\n",
      "And if memory is not enough, you can set `force_col_wise=true`.\n",
      "[LightGBM] [Info] Total Bins 152735\n",
      "[LightGBM] [Info] Number of data points in the train set: 52277, number of used features: 3608\n",
      "[LightGBM] [Info] Start training from score -1.745100\n",
      "[LightGBM] [Info] Start training from score -1.195724\n",
      "[LightGBM] [Info] Start training from score -1.403758\n",
      "[LightGBM] [Info] Start training from score -1.282960\n",
      "accuracy_score: 0.6481142602097746\n"
     ]
    }
   ],
   "source": [
    "le = LabelEncoder()\n",
    "y_train_encoded = le.fit_transform(y_train)\n",
    "y_valid_encoded = le.transform(y_valid)\n",
    "lgbm_clf = LGBMClassifier()\n",
    "tfidf_pipeline = Pipeline(steps=[\n",
    "    ('clean', CleanContentTransformer()),\n",
    "    ('tfidf', TfidfVectorizer()),\n",
    "    ('model', lgbm_clf)\n",
    "])\n",
    "\n",
    "# joined_words = [' '.join(word_list) for word_list in cleaned_content]\n",
    "\n",
    "tfidf_pipeline.fit(X_train['tweet_content'], y_train_encoded)\n",
    "preds = tfidf_pipeline.predict(X_valid['tweet_content'])\n",
    "\n",
    "acc = accuracy_score(y_valid_encoded, preds)\n",
    "print(f'accuracy_score: {acc}')\n",
    "\n",
    "# tfidf = TfidfVectorizer()\n",
    "# train_matrix = tfidf.fit_transform(joined_words)\n",
    "\n"
   ]
  },
  {
   "cell_type": "markdown",
   "metadata": {},
   "source": [
    "Display confusion matrix"
   ]
  },
  {
   "cell_type": "code",
   "execution_count": 12,
   "metadata": {},
   "outputs": [
    {
     "data": {
      "image/png": "[encoded data removed]",
      "text/plain": [
       "<Figure size 640x480 with 2 Axes>"
      ]
     },
     "metadata": {},
     "output_type": "display_data"
    }
   ],
   "source": [
    "def display_cm(actual, predicted):\n",
    "    cm = confusion_matrix(actual, predicted)\n",
    "    ConfusionMatrixDisplay(cm, display_labels=le.classes_).plot()\n",
    "\n",
    "display_cm(y_valid_encoded, preds)"
   ]
  },
  {
   "cell_type": "markdown",
   "metadata": {},
   "source": [
    "Function to evaluate performance of different classifiers.  \n",
    "RandomForestClassifier has a significantly higher accuracy than lgbm and xgboost."
   ]
  },
  {
   "cell_type": "code",
   "execution_count": 13,
   "metadata": {},
   "outputs": [
    {
     "name": "stderr",
     "output_type": "stream",
     "text": [
      "  0%|          | 0/3 [00:00<?, ?it/s]"
     ]
    },
    {
     "name": "stdout",
     "output_type": "stream",
     "text": [
      "[LightGBM] [Info] Auto-choosing col-wise multi-threading, the overhead of testing was 0.394268 seconds.\n",
      "You can set `force_col_wise=true` to remove the overhead.\n",
      "[LightGBM] [Info] Total Bins 152735\n",
      "[LightGBM] [Info] Number of data points in the train set: 52277, number of used features: 3608\n",
      "[LightGBM] [Info] Start training from score -1.745100\n",
      "[LightGBM] [Info] Start training from score -1.195724\n",
      "[LightGBM] [Info] Start training from score -1.403758\n",
      "[LightGBM] [Info] Start training from score -1.282960\n"
     ]
    },
    {
     "name": "stderr",
     "output_type": "stream",
     "text": [
      " 33%|███▎      | 1/3 [00:15<00:30, 15.16s/it]"
     ]
    },
    {
     "name": "stdout",
     "output_type": "stream",
     "text": [
      "accuracy_score: 0.6481142602097746\n"
     ]
    },
    {
     "name": "stderr",
     "output_type": "stream",
     "text": [
      " 67%|██████▋   | 2/3 [01:14<00:41, 41.39s/it]"
     ]
    },
    {
     "name": "stdout",
     "output_type": "stream",
     "text": [
      "accuracy_score: 0.6500781075652756\n"
     ]
    },
    {
     "name": "stderr",
     "output_type": "stream",
     "text": [
      "100%|██████████| 3/3 [03:49<00:00, 76.47s/it]"
     ]
    },
    {
     "name": "stdout",
     "output_type": "stream",
     "text": [
      "accuracy_score: 0.8883731309975452\n"
     ]
    },
    {
     "name": "stderr",
     "output_type": "stream",
     "text": [
      "\n"
     ]
    }
   ],
   "source": [
    "def eval_clf(classifier):\n",
    "    tfidf_pipeline = Pipeline(steps=[\n",
    "        ('clean', CleanContentTransformer()),\n",
    "        ('tfidf', TfidfVectorizer()),\n",
    "        ('model', classifier)\n",
    "    ])\n",
    "    tfidf_pipeline.fit(X_train['tweet_content'], y_train_encoded)\n",
    "    preds = tfidf_pipeline.predict(X_valid['tweet_content'])\n",
    "\n",
    "    return accuracy_score(y_valid_encoded, preds)\n",
    "\n",
    "xgb_clf = XGBClassifier()\n",
    "rf_clf = RandomForestClassifier()\n",
    "\n",
    "for clf in tqdm([lgbm_clf, xgb_clf, rf_clf]):\n",
    "    print(f'accuracy_score: {eval_clf(clf)}')\n",
    " \n",
    "\n"
   ]
  },
  {
   "cell_type": "markdown",
   "metadata": {},
   "source": [
    "# Optuna for LGBMClassifier\n",
    "Choose a better n_estimator for lgbm to improve accuracy. At around 483 n_estimators, the model already achieved a significantly higher accuracy at 83%. Succeeding trials with more n_estimators did not significantly improve this accuracy. "
   ]
  },
  {
   "cell_type": "code",
   "execution_count": 18,
   "metadata": {},
   "outputs": [
    {
     "name": "stderr",
     "output_type": "stream",
     "text": [
      "[I 2024-10-23 08:44:56,865] A new study created in memory with name: no-name-65b25a06-3b65-48b8-bfc3-ee217e63fea5\n"
     ]
    },
    {
     "name": "stdout",
     "output_type": "stream",
     "text": [
      "[LightGBM] [Info] Auto-choosing row-wise multi-threading, the overhead of testing was 0.221555 seconds.\n",
      "You can set `force_row_wise=true` to remove the overhead.\n",
      "And if memory is not enough, you can set `force_col_wise=true`.\n",
      "[LightGBM] [Info] Total Bins 152735\n",
      "[LightGBM] [Info] Number of data points in the train set: 52277, number of used features: 3608\n",
      "[LightGBM] [Info] Start training from score -1.745100\n",
      "[LightGBM] [Info] Start training from score -1.195724\n",
      "[LightGBM] [Info] Start training from score -1.403758\n",
      "[LightGBM] [Info] Start training from score -1.282960\n"
     ]
    },
    {
     "name": "stderr",
     "output_type": "stream",
     "text": [
      "[I 2024-10-23 08:48:12,631] Trial 0 finished with value: 0.8315554563713456 and parameters: {'n_estimators': 1941}. Best is trial 0 with value: 0.8315554563713456.\n"
     ]
    },
    {
     "name": "stdout",
     "output_type": "stream",
     "text": [
      "[LightGBM] [Info] Auto-choosing row-wise multi-threading, the overhead of testing was 0.465600 seconds.\n",
      "You can set `force_row_wise=true` to remove the overhead.\n",
      "And if memory is not enough, you can set `force_col_wise=true`.\n",
      "[LightGBM] [Info] Total Bins 152735\n",
      "[LightGBM] [Info] Number of data points in the train set: 52277, number of used features: 3608\n",
      "[LightGBM] [Info] Start training from score -1.745100\n",
      "[LightGBM] [Info] Start training from score -1.195724\n",
      "[LightGBM] [Info] Start training from score -1.403758\n",
      "[LightGBM] [Info] Start training from score -1.282960\n"
     ]
    },
    {
     "name": "stderr",
     "output_type": "stream",
     "text": [
      "[I 2024-10-23 08:49:08,891] Trial 1 finished with value: 0.7715688462396787 and parameters: {'n_estimators': 489}. Best is trial 0 with value: 0.8315554563713456.\n"
     ]
    },
    {
     "name": "stdout",
     "output_type": "stream",
     "text": [
      "[LightGBM] [Info] Auto-choosing col-wise multi-threading, the overhead of testing was 0.411084 seconds.\n",
      "You can set `force_col_wise=true` to remove the overhead.\n",
      "[LightGBM] [Info] Total Bins 152735\n",
      "[LightGBM] [Info] Number of data points in the train set: 52277, number of used features: 3608\n",
      "[LightGBM] [Info] Start training from score -1.745100\n",
      "[LightGBM] [Info] Start training from score -1.195724\n",
      "[LightGBM] [Info] Start training from score -1.403758\n",
      "[LightGBM] [Info] Start training from score -1.282960\n"
     ]
    },
    {
     "name": "stderr",
     "output_type": "stream",
     "text": [
      "[I 2024-10-23 08:50:15,487] Trial 2 finished with value: 0.7869671948225843 and parameters: {'n_estimators': 624}. Best is trial 0 with value: 0.8315554563713456.\n"
     ]
    },
    {
     "name": "stdout",
     "output_type": "stream",
     "text": [
      "[LightGBM] [Info] Auto-choosing col-wise multi-threading, the overhead of testing was 0.288591 seconds.\n",
      "You can set `force_col_wise=true` to remove the overhead.\n",
      "[LightGBM] [Info] Total Bins 152735\n",
      "[LightGBM] [Info] Number of data points in the train set: 52277, number of used features: 3608\n",
      "[LightGBM] [Info] Start training from score -1.745100\n",
      "[LightGBM] [Info] Start training from score -1.195724\n",
      "[LightGBM] [Info] Start training from score -1.403758\n",
      "[LightGBM] [Info] Start training from score -1.282960\n"
     ]
    },
    {
     "name": "stderr",
     "output_type": "stream",
     "text": [
      "[I 2024-10-23 08:53:40,638] Trial 3 finished with value: 0.8351707208212452 and parameters: {'n_estimators': 2328}. Best is trial 3 with value: 0.8351707208212452.\n"
     ]
    },
    {
     "name": "stdout",
     "output_type": "stream",
     "text": [
      "[LightGBM] [Info] Auto-choosing col-wise multi-threading, the overhead of testing was 0.392739 seconds.\n",
      "You can set `force_col_wise=true` to remove the overhead.\n",
      "[LightGBM] [Info] Total Bins 152735\n",
      "[LightGBM] [Info] Number of data points in the train set: 52277, number of used features: 3608\n",
      "[LightGBM] [Info] Start training from score -1.745100\n",
      "[LightGBM] [Info] Start training from score -1.195724\n",
      "[LightGBM] [Info] Start training from score -1.403758\n",
      "[LightGBM] [Info] Start training from score -1.282960\n"
     ]
    },
    {
     "name": "stderr",
     "output_type": "stream",
     "text": [
      "[I 2024-10-23 08:55:33,532] Trial 4 finished with value: 0.8163356393662129 and parameters: {'n_estimators': 1063}. Best is trial 3 with value: 0.8351707208212452.\n"
     ]
    },
    {
     "name": "stdout",
     "output_type": "stream",
     "text": [
      "[LightGBM] [Info] Auto-choosing col-wise multi-threading, the overhead of testing was 0.513085 seconds.\n",
      "You can set `force_col_wise=true` to remove the overhead.\n",
      "[LightGBM] [Info] Total Bins 152735\n",
      "[LightGBM] [Info] Number of data points in the train set: 52277, number of used features: 3608\n",
      "[LightGBM] [Info] Start training from score -1.745100\n",
      "[LightGBM] [Info] Start training from score -1.195724\n",
      "[LightGBM] [Info] Start training from score -1.403758\n",
      "[LightGBM] [Info] Start training from score -1.282960\n"
     ]
    },
    {
     "name": "stderr",
     "output_type": "stream",
     "text": [
      "[I 2024-10-23 09:01:14,429] Trial 5 finished with value: 0.8393662128989064 and parameters: {'n_estimators': 3168}. Best is trial 5 with value: 0.8393662128989064.\n"
     ]
    }
   ],
   "source": [
    "def objective(trial):\n",
    "    # learning_rate = trial.suggest_float('learning_rate', 0.01, 0.2)\n",
    "    n_estimators = trial.suggest_int('n_estimators', 20, 4000)\n",
    "    classifier = LGBMClassifier(n_estimators=n_estimators)\n",
    "    # classifier = LGBMClassifier(n_estimators=n_estimators, learning_rate=learning_rate)\n",
    "    tfidf_pipeline = Pipeline(steps=[\n",
    "        ('clean', CleanContentTransformer()),\n",
    "        ('tfidf', TfidfVectorizer()),\n",
    "        ('model', classifier)\n",
    "    ])\n",
    "    tfidf_pipeline.fit(X_train['tweet_content'], y_train_encoded)\n",
    "    return tfidf_pipeline.score(X_valid['tweet_content'], y_valid_encoded )\n",
    "\n",
    "study = optuna.create_study(direction='maximize')\n",
    "study.optimize(objective, n_trials=6)\n",
    "    "
   ]
  },
  {
   "cell_type": "markdown",
   "metadata": {},
   "source": [
    "# Optuna for XGBClassifier\n",
    "Choose a better n_estimator for xgb to improve accuracy. At around 1596 n_estimators, the model already achieved a significantly higher accuracy at 83%. Succeeding trials with more n_estimators did not significantly improve this accuracy. "
   ]
  },
  {
   "cell_type": "code",
   "execution_count": 19,
   "metadata": {},
   "outputs": [
    {
     "name": "stderr",
     "output_type": "stream",
     "text": [
      "[I 2024-10-23 10:16:22,831] A new study created in memory with name: no-name-b92f92f1-f787-4f99-bdb6-989dfff59cf5\n",
      "[I 2024-10-23 10:19:11,334] Trial 0 finished with value: 0.7453693372015175 and parameters: {'n_estimators': 381}. Best is trial 0 with value: 0.7453693372015175.\n",
      "[I 2024-10-23 10:29:24,201] Trial 1 finished with value: 0.8316893550546753 and parameters: {'n_estimators': 1658}. Best is trial 1 with value: 0.8316893550546753.\n",
      "[I 2024-10-23 10:39:13,888] Trial 2 finished with value: 0.8311983932158 and parameters: {'n_estimators': 1596}. Best is trial 1 with value: 0.8316893550546753.\n",
      "[I 2024-10-23 10:41:43,829] Trial 3 finished with value: 0.7293461280964071 and parameters: {'n_estimators': 300}. Best is trial 1 with value: 0.8316893550546753.\n"
     ]
    }
   ],
   "source": [
    "def objective(trial):\n",
    "    n_estimators = trial.suggest_int('n_estimators', 20, 2000)\n",
    "    classifier = XGBClassifier(n_estimators=n_estimators)\n",
    "    tfidf_pipeline = Pipeline(steps=[\n",
    "        ('clean', CleanContentTransformer()),\n",
    "        ('tfidf', TfidfVectorizer()),\n",
    "        ('clf', classifier)\n",
    "    ])\n",
    "\n",
    "    tfidf_pipeline.fit(X_train['tweet_content'], y_train_encoded)\n",
    "    return tfidf_pipeline.score(X_valid['tweet_content'], y_valid_encoded)\n",
    "\n",
    "study = optuna.create_study(direction='maximize')\n",
    "study.optimize(objective, n_trials=6)"
   ]
  },
  {
   "cell_type": "markdown",
   "metadata": {},
   "source": [
    "# Optuna for RandomForrest\n",
    "Choose a better n_estimator for RandomForest to improve accuracy. At around 500 n_estimators, the model already achieved 89% accuracy. Succeeding trials with more n_estimators did not significantly improve this accuracy. "
   ]
  },
  {
   "cell_type": "code",
   "execution_count": null,
   "metadata": {},
   "outputs": [],
   "source": [
    "def objective(trial):\n",
    "    n_estimators = trial.suggest_int('n_estimators', 20, 2000)\n",
    "    classifier = RandomForestClassifier(n_estimators=n_estimators)\n",
    "    tfidf_pipeline = Pipeline(steps=[\n",
    "        ('clean', CleanContentTransformer()),\n",
    "        ('tfidf', TfidfVectorizer()),\n",
    "        ('clf', classifier)\n",
    "    ])\n",
    "\n",
    "    tfidf_pipeline.fit(X_train['tweet_content'], y_train_encoded)\n",
    "    return tfidf_pipeline.score(X_valid['tweet_content'], y_valid_encoded)\n",
    "\n",
    "study = optuna.create_study(direction='maximize')\n",
    "study.optimize(objective, n_trials=6)"
   ]
  },
  {
   "cell_type": "markdown",
   "metadata": {},
   "source": [
    "# K-MEANS clustering\n",
    "k-means scored the lowest accuracy at 24%"
   ]
  },
  {
   "cell_type": "code",
   "execution_count": 44,
   "metadata": {},
   "outputs": [
    {
     "name": "stdout",
     "output_type": "stream",
     "text": [
      "accuracy_score: 0.30046864539165363\n",
      "              precision    recall  f1-score   support\n",
      "\n",
      "           0       0.21      0.13      0.16      3861\n",
      "           1       0.35      0.31      0.33      6729\n",
      "           2       0.30      0.49      0.37      5475\n",
      "           3       0.28      0.23      0.25      6340\n",
      "\n",
      "    accuracy                           0.30     22405\n",
      "   macro avg       0.29      0.29      0.28     22405\n",
      "weighted avg       0.30      0.30      0.29     22405\n",
      "\n"
     ]
    }
   ],
   "source": [
    "km_clf = KMeans(n_clusters=4, max_iter=1000)\n",
    "tfidf_pipeline = Pipeline(steps=[\n",
    "    ('clean', CleanContentTransformer()),\n",
    "    ('tfidf', TfidfVectorizer()),\n",
    "    ('clf', km_clf)\n",
    "])\n",
    "\n",
    "tfidf_pipeline.fit(X_train['tweet_content'])\n",
    "preds = tfidf_pipeline.predict(X_valid['tweet_content'])\n",
    "acc = accuracy_score(y_valid_encoded, preds)\n",
    "\n",
    "print(f'accuracy_score: {acc}')\n",
    "print(classification_report(y_valid_encoded, preds))"
   ]
  },
  {
   "cell_type": "markdown",
   "metadata": {},
   "source": [
    "# Word2Vec\n",
    "Use word2vec instead of tfidf"
   ]
  },
  {
   "cell_type": "code",
   "execution_count": 21,
   "metadata": {},
   "outputs": [
    {
     "data": {
      "text/plain": [
       "61528    show tv DAHYE NOW it vid x for used my his on ...\n",
       "66245    Johnson baby powder would US denying pleasecom...\n",
       "32930    have bitch endt i for two a pressed in better ...\n",
       "55449     Absolutely CallofDuty 156GB pathetic over gotten\n",
       "48420    dont right displays calling to furniture their...\n",
       "                               ...                        \n",
       "21243    Help this 2015GO me wnnrEp9n6T free win from I...\n",
       "45891    Facebook on platform rampant faces and fall Th...\n",
       "42613    dont into 10 know was lot my logged for my ID ...\n",
       "43567    video finished my last v enjoy 2nd a and in th...\n",
       "68268    have it be with still wont this Johnny about C...\n",
       "Name: tweet_content, Length: 52277, dtype: object"
      ]
     },
     "execution_count": 21,
     "metadata": {},
     "output_type": "execute_result"
    }
   ],
   "source": [
    "from gensim.models import Word2Vec\n",
    "\n",
    "# tfidf_pipeline = Pipeline(steps=[\n",
    "#     ('clean', CleanContentTransformer()),\n",
    "#     ('tfidf', TfidfVectorizer()),\n",
    "#     ('clf', km_clf)\n",
    "# ])\n",
    "\n",
    "cc = CleanContentTransformer()\n",
    "\n",
    "words = cc.fit_transform(X_train['tweet_content'])\n",
    "words"
   ]
  },
  {
   "cell_type": "markdown",
   "metadata": {},
   "source": [
    "# NN with embedding layer"
   ]
  }
 ],
 "metadata": {
  "kernelspec": {
   "display_name": "gcash",
   "language": "python",
   "name": "python3"
  },
  "language_info": {
   "codemirror_mode": {
    "name": "ipython",
    "version": 3
   },
   "file_extension": ".py",
   "mimetype": "text/x-python",
   "name": "python",
   "nbconvert_exporter": "python",
   "pygments_lexer": "ipython3",
   "version": "3.12.4"
  }
 },
 "nbformat": 4,
 "nbformat_minor": 2
}
