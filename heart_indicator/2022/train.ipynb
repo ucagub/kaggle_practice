{
 "cells": [
  {
   "cell_type": "code",
   "execution_count": 1,
   "metadata": {},
   "outputs": [],
   "source": [
    "import numpy as np\n",
    "import pandas as pd\n",
    "from sklearn.model_selection import train_test_split\n",
    "from sklearn.metrics import accuracy_score, confusion_matrix, ConfusionMatrixDisplay\n",
    "from sklearn.compose import ColumnTransformer\n",
    "from sklearn.pipeline import Pipeline\n",
    "from sklearn.preprocessing import OneHotEncoder, OrdinalEncoder, LabelEncoder, StandardScaler\n",
    "from sklearn.impute import SimpleImputer\n",
    "from xgboost import XGBClassifier\n",
    "import matplotlib.pyplot as plt"
   ]
  },
  {
   "cell_type": "code",
   "execution_count": 2,
   "metadata": {},
   "outputs": [
    {
     "data": {
      "text/plain": [
       "State                                                                  Alabama\n",
       "Sex                                                                     Female\n",
       "GeneralHealth                                                        Very good\n",
       "PhysicalHealthDays                                                         0.0\n",
       "MentalHealthDays                                                           0.0\n",
       "LastCheckupTime              Within past year (anytime less than 12 months ...\n",
       "PhysicalActivities                                                          No\n",
       "SleepHours                                                                 8.0\n",
       "RemovedTeeth                                                               NaN\n",
       "HadHeartAttack                                                              No\n",
       "HadAngina                                                                   No\n",
       "HadStroke                                                                   No\n",
       "HadAsthma                                                                   No\n",
       "HadSkinCancer                                                               No\n",
       "HadCOPD                                                                     No\n",
       "HadDepressiveDisorder                                                       No\n",
       "HadKidneyDisease                                                            No\n",
       "HadArthritis                                                                No\n",
       "HadDiabetes                                                                Yes\n",
       "DeafOrHardOfHearing                                                         No\n",
       "BlindOrVisionDifficulty                                                     No\n",
       "DifficultyConcentrating                                                     No\n",
       "DifficultyWalking                                                           No\n",
       "DifficultyDressingBathing                                                   No\n",
       "DifficultyErrands                                                           No\n",
       "SmokerStatus                                                      Never smoked\n",
       "ECigaretteUsage                                         Not at all (right now)\n",
       "ChestScan                                                                   No\n",
       "RaceEthnicityCategory                                 White only, Non-Hispanic\n",
       "AgeCategory                                                    Age 80 or older\n",
       "HeightInMeters                                                             NaN\n",
       "WeightInKilograms                                                          NaN\n",
       "BMI                                                                        NaN\n",
       "AlcoholDrinkers                                                             No\n",
       "HIVTesting                                                                  No\n",
       "FluVaxLast12                                                               Yes\n",
       "PneumoVaxEver                                                               No\n",
       "TetanusLast10Tdap            Yes, received tetanus shot but not sure what type\n",
       "HighRiskLastYear                                                            No\n",
       "CovidPos                                                                    No\n",
       "Name: 0, dtype: object"
      ]
     },
     "execution_count": 2,
     "metadata": {},
     "output_type": "execute_result"
    }
   ],
   "source": [
    "df = pd.read_csv('heart_2022_with_nans.csv')\n",
    "# df.head()\n",
    "\n",
    "df.loc[0]"
   ]
  },
  {
   "cell_type": "code",
   "execution_count": 3,
   "metadata": {},
   "outputs": [],
   "source": [
    "df.dropna(subset='CovidPos', axis=0, inplace=True)"
   ]
  },
  {
   "cell_type": "code",
   "execution_count": 4,
   "metadata": {},
   "outputs": [
    {
     "data": {
      "text/plain": [
       "State                         object\n",
       "Sex                           object\n",
       "GeneralHealth                 object\n",
       "PhysicalHealthDays           float64\n",
       "MentalHealthDays             float64\n",
       "LastCheckupTime               object\n",
       "PhysicalActivities            object\n",
       "SleepHours                   float64\n",
       "RemovedTeeth                  object\n",
       "HadHeartAttack                object\n",
       "HadAngina                     object\n",
       "HadStroke                     object\n",
       "HadAsthma                     object\n",
       "HadSkinCancer                 object\n",
       "HadCOPD                       object\n",
       "HadDepressiveDisorder         object\n",
       "HadKidneyDisease              object\n",
       "HadArthritis                  object\n",
       "HadDiabetes                   object\n",
       "DeafOrHardOfHearing           object\n",
       "BlindOrVisionDifficulty       object\n",
       "DifficultyConcentrating       object\n",
       "DifficultyWalking             object\n",
       "DifficultyDressingBathing     object\n",
       "DifficultyErrands             object\n",
       "SmokerStatus                  object\n",
       "ECigaretteUsage               object\n",
       "ChestScan                     object\n",
       "RaceEthnicityCategory         object\n",
       "AgeCategory                   object\n",
       "HeightInMeters               float64\n",
       "WeightInKilograms            float64\n",
       "BMI                          float64\n",
       "AlcoholDrinkers               object\n",
       "HIVTesting                    object\n",
       "FluVaxLast12                  object\n",
       "PneumoVaxEver                 object\n",
       "TetanusLast10Tdap             object\n",
       "HighRiskLastYear              object\n",
       "CovidPos                      object\n",
       "dtype: object"
      ]
     },
     "execution_count": 4,
     "metadata": {},
     "output_type": "execute_result"
    }
   ],
   "source": [
    "df.dtypes\n",
    "# list(df.select_dtypes('object').nunique()[df.select_dtypes('object').nunique() > 10].keys())\n",
    "# df.isnull().any()"
   ]
  },
  {
   "cell_type": "code",
   "execution_count": 5,
   "metadata": {},
   "outputs": [],
   "source": [
    "X = df.drop('CovidPos', axis=1)\n",
    "y = pd.DataFrame(df['CovidPos'])\n",
    "\n",
    "num_cols = list(X.select_dtypes('number').columns)\n",
    "ordinal_cols = list(X.select_dtypes('object').nunique()[X.select_dtypes('object').nunique() > 10].keys())\n",
    "onehot_cols = list(X.select_dtypes('object').nunique()[X.select_dtypes('object').nunique() <= 10].keys())\n",
    "X_train, X_valid, y_train, y_valid = train_test_split(X, y, test_size=0.3, random_state=0)\n",
    "sample_row = X.iloc[0,:].to_dict()"
   ]
  },
  {
   "cell_type": "code",
   "execution_count": 6,
   "metadata": {},
   "outputs": [
    {
     "name": "stderr",
     "output_type": "stream",
     "text": [
      "/home/uz/anaconda3/envs/gcash/lib/python3.12/site-packages/sklearn/preprocessing/_label.py:114: DataConversionWarning: A column-vector y was passed when a 1d array was expected. Please change the shape of y to (n_samples, ), for example using ravel().\n",
      "  y = column_or_1d(y, warn=True)\n",
      "/home/uz/anaconda3/envs/gcash/lib/python3.12/site-packages/sklearn/preprocessing/_label.py:132: DataConversionWarning: A column-vector y was passed when a 1d array was expected. Please change the shape of y to (n_samples, ), for example using ravel().\n",
      "  y = column_or_1d(y, dtype=self.classes_.dtype, warn=True)\n"
     ]
    },
    {
     "name": "stdout",
     "output_type": "stream",
     "text": [
      "accuracy: 0.68691837614423\n"
     ]
    }
   ],
   "source": [
    "num_pipeline = Pipeline(steps=[\n",
    "    ('impute', SimpleImputer(strategy='mean')),\n",
    "    ('scale', StandardScaler()),\n",
    "])\n",
    "\n",
    "ordinal_pipeline = Pipeline(steps=[\n",
    "    ('impute', SimpleImputer(strategy='most_frequent')),\n",
    "    ('ordinal', OrdinalEncoder(handle_unknown='use_encoded_value', unknown_value=-1)),\n",
    "])\n",
    "\n",
    "onehot_pipeline = Pipeline(steps=[\n",
    "    ('impute', SimpleImputer(strategy='most_frequent')),\n",
    "    ('onehot', OneHotEncoder(handle_unknown='ignore', sparse_output=False))\n",
    "])\n",
    "\n",
    "preprocessing = ColumnTransformer(transformers=[\n",
    "    ('num_pipeline', num_pipeline, num_cols),\n",
    "    ('ordinal_pipeline', ordinal_pipeline, ordinal_cols),\n",
    "    ('onehot_pipeline', onehot_pipeline, onehot_cols)\n",
    "])\n",
    "\n",
    "model = XGBClassifier()\n",
    "\n",
    "pipeline = Pipeline(steps=[\n",
    "    ('transformers', preprocessing),\n",
    "    ('model', model)\n",
    "])\n",
    "\n",
    "le = LabelEncoder()\n",
    "y_train_encoded = le.fit_transform(y_train)\n",
    "y_valid_encoded = le.transform(y_valid)\n",
    "\n",
    "pipeline.fit(X_train, y_train_encoded)\n",
    "preds = pipeline.predict(X_valid)\n",
    "\n",
    "print(f'accuracy: {accuracy_score(y_valid_encoded, preds)}')"
   ]
  },
  {
   "cell_type": "code",
   "execution_count": 7,
   "metadata": {},
   "outputs": [
    {
     "data": {
      "text/plain": [
       "(array([0, 1, 2]),\n",
       " [Text(0, 0, 'No'),\n",
       "  Text(1, 0, 'Tested positive using home test without a health professional'),\n",
       "  Text(2, 0, 'Yes')])"
      ]
     },
     "execution_count": 7,
     "metadata": {},
     "output_type": "execute_result"
    },
    {
     "data": {
      "image/png": "[encoded data removed]",
      "text/plain": [
       "<Figure size 640x480 with 2 Axes>"
      ]
     },
     "metadata": {},
     "output_type": "display_data"
    }
   ],
   "source": [
    "# le.inverse_transform(preds)\n",
    "\n",
    "# y_valid['CovidPos'] == le.inverse_transform(preds)\n",
    "cm = confusion_matrix(y_valid['CovidPos'], le.inverse_transform(preds))\n",
    "ConfusionMatrixDisplay(cm, display_labels=le.classes_).plot()\n",
    "plt.xticks(rotation=45)"
   ]
  },
  {
   "cell_type": "code",
   "execution_count": 8,
   "metadata": {},
   "outputs": [],
   "source": [
    "import pickle\n",
    "\n",
    "with open('pipeline.pkl', 'wb') as file:\n",
    "    pickle.dump(pipeline, file)\n",
    "with open('label_encoder.pkl', 'wb') as file:\n",
    "    pickle.dump(le, file)"
   ]
  },
  {
   "cell_type": "code",
   "execution_count": 10,
   "metadata": {},
   "outputs": [
    {
     "data": {
      "text/plain": [
       "'No'"
      ]
     },
     "execution_count": 10,
     "metadata": {},
     "output_type": "execute_result"
    }
   ],
   "source": [
    "from typing import Optional\n",
    "from pydantic import BaseModel, Field, ValidationError\n",
    "\n",
    "class Patient(BaseModel):\n",
    "    state: object = Field(..., alias='State')\n",
    "    sex: object = Field(..., alias='Sex')\n",
    "    general_health: object = Field(..., alias='GeneralHealth')\n",
    "    physical_health_days: Optional[float] = Field(None, alias='PhysicalHealthDays')\n",
    "    mental_health_days: Optional[float] = Field(None, alias='MentalHealthDays')\n",
    "    last_checkup_time: object = Field(..., alias='LastCheckupTime')\n",
    "    physical_activities: object = Field(..., alias='PhysicalActivities')\n",
    "    sleep_hours: Optional[float] = Field(None, alias='SleepHours')\n",
    "    removed_teeth: object = Field(..., alias='RemovedTeeth')\n",
    "    had_heart_attack: object = Field(..., alias='HadHeartAttack')\n",
    "    had_angina: object = Field(..., alias='HadAngina')\n",
    "    had_objectoke: str = Field(..., alias='HadStroke')\n",
    "    had_asthma: object = Field(..., alias='HadAsthma')\n",
    "    had_skin_cancer: object = Field(..., alias='HadSkinCancer')\n",
    "    had_copd: object = Field(..., alias='HadCOPD')\n",
    "    had_depressive_disorder: object = Field(..., alias='HadDepressiveDisorder')\n",
    "    had_kidney_disease: object = Field(..., alias='HadKidneyDisease')\n",
    "    had_arthritis: object = Field(..., alias='HadArthritis')\n",
    "    had_diabetes: object = Field(..., alias='HadDiabetes')\n",
    "    deaf_or_hard_of_hearing: object = Field(..., alias='DeafOrHardOfHearing')\n",
    "    blind_or_vision_difficulty: object = Field(..., alias='BlindOrVisionDifficulty')\n",
    "    difficulty_concentrating: object = Field(..., alias='DifficultyConcentrating')\n",
    "    difficulty_walking: object = Field(..., alias='DifficultyWalking')\n",
    "    difficulty_dressing_bathing: object = Field(..., alias='DifficultyDressingBathing')\n",
    "    difficulty_errands: object = Field(..., alias='DifficultyErrands')\n",
    "    smoker_status: object = Field(..., alias='SmokerStatus')\n",
    "    e_cigarette_usage: object = Field(..., alias='ECigaretteUsage')\n",
    "    chest_scan: object = Field(..., alias='ChestScan')\n",
    "    race_ethnicity_category: object = Field(..., alias='RaceEthnicityCategory')\n",
    "    age_category: object = Field(..., alias='AgeCategory')\n",
    "    height_in_meters: Optional[float] = Field(None, alias='HeightInMeters')\n",
    "    weight_in_kilograms: Optional[float] = Field(None, alias='WeightInKilograms')\n",
    "    bmi: Optional[float] = Field(None, alias='BMI')\n",
    "    alcohol_drinkers: object = Field(..., alias='AlcoholDrinkers')\n",
    "    hiv_testing: object = Field(..., alias='HIVTesting')\n",
    "    flu_vax_last_12: object = Field(..., alias='FluVaxLast12')\n",
    "    pneumo_vax_ever: object = Field(..., alias='PneumoVaxEver')\n",
    "    tetanus_last_10_tdap: object = Field(..., alias='TetanusLast10Tdap')\n",
    "    high_risk_last_year: object = Field(..., alias='HighRiskLastYear')\n",
    "\n",
    "with open('pipeline.pkl', 'rb') as file:\n",
    "    loaded_pipeline = pickle.load(file)\n",
    "with open('label_encoder.pkl', 'rb') as file:\n",
    "    loaded_le = pickle.load(file)\n",
    "\n",
    "patient = Patient(**sample_row)\n",
    "inputs = pd.DataFrame([patient.model_dump(by_alias=True)])\n",
    "pred = loaded_pipeline.predict(inputs)\n",
    "loaded_le.inverse_transform(pred)[0]"
   ]
  },
  {
   "cell_type": "code",
   "execution_count": 9,
   "metadata": {},
   "outputs": [
    {
     "name": "stdout",
     "output_type": "stream",
     "text": [
      " * Serving Flask app '__main__'\n",
      " * Debug mode: off\n"
     ]
    },
    {
     "name": "stderr",
     "output_type": "stream",
     "text": [
      "Address already in use\n",
      "Port 5000 is in use by another program. Either identify and stop that program, or start the server with a different port.\n"
     ]
    },
    {
     "ename": "SystemExit",
     "evalue": "1",
     "output_type": "error",
     "traceback": [
      "An exception has occurred, use %tb to see the full traceback.\n",
      "\u001b[0;31mSystemExit\u001b[0m\u001b[0;31m:\u001b[0m 1\n"
     ]
    },
    {
     "name": "stderr",
     "output_type": "stream",
     "text": [
      "/home/uz/anaconda3/envs/gcash/lib/python3.12/site-packages/IPython/core/interactiveshell.py:3585: UserWarning: To exit: use 'exit', 'quit', or Ctrl-D.\n",
      "  warn(\"To exit: use 'exit', 'quit', or Ctrl-D.\", stacklevel=1)\n"
     ]
    }
   ],
   "source": [
    "from flask import Flask, request, jsonify\n",
    "\n",
    "app = Flask(__name__)\n",
    "\n",
    "@app.route('/predict', methods=['POST'])\n",
    "def predict():\n",
    "    try:\n",
    "        patient = Patient(**request.json)\n",
    "        inputs = pd.DataFrame([patient.model_dump(by_alias=True)])\n",
    "        pred = loaded_pipeline.predict(inputs)\n",
    "        pred_actual = loaded_le.inverse_transform(pred)[0]\n",
    "        response = {\n",
    "            'prediction': pred_actual\n",
    "        }\n",
    "        return jsonify(response), 200\n",
    "    except ValidationError as e:\n",
    "        return jsonify(e.errors()), 400\n",
    "\n",
    "if __name__=='__main__':\n",
    "    app.run()"
   ]
  }
 ],
 "metadata": {
  "kernelspec": {
   "display_name": "gcash",
   "language": "python",
   "name": "python3"
  },
  "language_info": {
   "codemirror_mode": {
    "name": "ipython",
    "version": 3
   },
   "file_extension": ".py",
   "mimetype": "text/x-python",
   "name": "python",
   "nbconvert_exporter": "python",
   "pygments_lexer": "ipython3",
   "version": "3.12.2"
  }
 },
 "nbformat": 4,
 "nbformat_minor": 2
}
